{
 "cells": [
  {
   "cell_type": "markdown",
   "metadata": {
    "collapsed": true
   },
   "source": [
    "# Imports\n",
    "\n",
    "Required libraries:\n",
    "* Numpy\n",
    "* Pandas\n",
    "* Scikit-learn\n",
    "* PyVCF"
   ]
  },
  {
   "cell_type": "code",
   "execution_count": null,
   "metadata": {
    "collapsed": true
   },
   "outputs": [],
   "source": [
    "from datastructures.patientdata import PatientData\n",
    "from preprocessor.vcf_data_preprocessing import VCFDataPreprocessor"
   ]
  },
  {
   "cell_type": "markdown",
   "metadata": {},
   "source": [
    "# MMChallengeData\n",
    "\n",
    "Pass the clinical file when instatiating."
   ]
  },
  {
   "cell_type": "code",
   "execution_count": null,
   "metadata": {},
   "outputs": [],
   "source": [
    "preprocessor = VCFDataPreprocessor(\"/home/tiagoalves/rrodrigues/globalClinTraining.csv\")\n",
    "datasets = preprocessor.getPatientDataByDataset(\"/home/tiagoalves/rrodrigues/link-data\")\n",
    "datasets"
   ]
  },
  {
   "cell_type": "code",
   "execution_count": null,
   "metadata": {},
   "outputs": [],
   "source": [
    "data = datasets['StrelkaIndels']\n",
    "scoring = data.get_genes_scoring()\n",
    "scoring"
   ]
  },
  {
   "cell_type": "code",
   "execution_count": null,
   "metadata": {
    "scrolled": false
   },
   "outputs": [],
   "source": [
    "fulldataset = data.getFullDataframe()\n",
    "fulldataset"
   ]
  },
  {
   "cell_type": "markdown",
   "metadata": {},
   "source": [
    "# Training models"
   ]
  },
  {
   "cell_type": "code",
   "execution_count": null,
   "metadata": {
    "collapsed": true
   },
   "outputs": [],
   "source": [
    "from machinelearning.vcf_model_trainer import VCFModelTrainer\n",
    "from sklearn.feature_selection.univariate_selection import SelectPercentile\n",
    "from sklearn.preprocessing.data import StandardScaler"
   ]
  },
  {
   "cell_type": "code",
   "execution_count": null,
   "metadata": {},
   "outputs": [],
   "source": [
    "trainer = VCFModelTrainer()\n",
    "for dataset in datasets.values():\n",
    "    print(dataset.get_dataset_origin())\n",
    "    #X = dataset.getFullDataframe(False, False)\n",
    "    X = dataset.get_genes_scoring()\n",
    "    scaler = StandardScaler()\n",
    "    fts = SelectPercentile(percentile=30)\n",
    "    y = dataset.get_flags()\n",
    "    X, y, z = trainer.df_reduce(X, y, scaler, fts, None)\n",
    "    trainer.doCrossValidation('nnet', X, y, folds=10)"
   ]
  },
  {
   "cell_type": "code",
   "execution_count": null,
   "metadata": {
    "collapsed": true
   },
   "outputs": [],
   "source": [
    ""
   ]
  }
 ],
 "metadata": {
  "kernelspec": {
   "display_name": "Python 3",
   "language": "python",
   "name": "python3"
  },
  "language_info": {
   "codemirror_mode": {
    "name": "ipython",
    "version": 3.0
   },
   "file_extension": ".py",
   "mimetype": "text/x-python",
   "name": "python",
   "nbconvert_exporter": "python",
   "pygments_lexer": "ipython3",
   "version": "3.6.1"
  }
 },
 "nbformat": 4,
 "nbformat_minor": 0
}